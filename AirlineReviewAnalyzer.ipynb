{
 "cells": [
  {
   "cell_type": "markdown",
   "metadata": {},
   "source": [
    "Imports and NLTK Data Download"
   ]
  },
  {
   "cell_type": "code",
   "execution_count": 37,
   "metadata": {},
   "outputs": [
    {
     "name": "stderr",
     "output_type": "stream",
     "text": [
      "[nltk_data] Downloading package vader_lexicon to\n",
      "[nltk_data]     C:\\Users\\hello\\AppData\\Roaming\\nltk_data...\n",
      "[nltk_data]   Package vader_lexicon is already up-to-date!\n"
     ]
    },
    {
     "data": {
      "text/plain": [
       "True"
      ]
     },
     "execution_count": 37,
     "metadata": {},
     "output_type": "execute_result"
    }
   ],
   "source": [
    "# Import necessary libraries\n",
    "import requests\n",
    "from bs4 import BeautifulSoup\n",
    "import pandas as pd\n",
    "import nltk\n",
    "import matplotlib.pyplot as plt\n",
    "from nltk.sentiment import SentimentIntensityAnalyzer as Sia\n",
    "\n",
    "# Download required NLTK data\n",
    "nltk.download('vader_lexicon')\n"
   ]
  },
  {
   "cell_type": "markdown",
   "metadata": {},
   "source": [
    "Define scrapper_names Function"
   ]
  },
  {
   "cell_type": "code",
   "execution_count": 38,
   "metadata": {},
   "outputs": [],
   "source": [
    "# Scrape airline names from the website\n",
    "def scrapper_names():\n",
    "    url = 'https://www.airlinequality.com/review-pages/a-z-airline-reviews/'\n",
    "    response = requests.get(url)\n",
    "    airlines_names = []\n",
    "    soup = BeautifulSoup(response.content, 'html.parser')\n",
    "    for row in soup.find_all('ul', class_='items'):\n",
    "        for i in row.find_all('li'):  # Extract only airline names, ignoring review counts\n",
    "            airlines_names.append(i.get_text().strip())\n",
    "    return airlines_names"
   ]
  },
  {
   "cell_type": "markdown",
   "metadata": {},
   "source": [
    "Define airlines Function"
   ]
  },
  {
   "cell_type": "code",
   "execution_count": 39,
   "metadata": {},
   "outputs": [],
   "source": [
    "\n",
    "# Create a DataFrame from airline names\n",
    "def airlines(airlines_names):\n",
    "    df = pd.DataFrame(airlines_names, columns=['Airline'])\n",
    "    return df\n"
   ]
  },
  {
   "cell_type": "markdown",
   "metadata": {},
   "source": [
    "Define input_airline Function"
   ]
  },
  {
   "cell_type": "code",
   "execution_count": 40,
   "metadata": {},
   "outputs": [],
   "source": [
    "# Input and validate airline name\n",
    "def input_airline(airline_list):\n",
    "    actual_airline = input(\"Enter the name of the airline you want to search for: \").lower()\n",
    "    if actual_airline in airline_list:\n",
    "        print(\"Processing...\")\n",
    "        print(f\"The {actual_airline} airline is in the list\")\n",
    "        return actual_airline\n",
    "    else:\n",
    "        print(f\"The {actual_airline} airline is not in the list\")\n",
    "        return None"
   ]
  },
  {
   "cell_type": "markdown",
   "metadata": {},
   "source": [
    "Define scrapper_reviews Function"
   ]
  },
  {
   "cell_type": "code",
   "execution_count": 41,
   "metadata": {},
   "outputs": [],
   "source": [
    "# Scrape reviews for the specified airline\n",
    "def scrapper_reviews(actual_airline):\n",
    "    if not actual_airline:\n",
    "        return None\n",
    "    url = f\"https://www.airlinequality.com/airline-reviews/{actual_airline.replace(' ', '-')}\"\n",
    "    base_url = url\n",
    "    pages = 5\n",
    "    page_size = 100\n",
    "    reviews = []\n",
    "\n",
    "    for i in range(1, pages + 1):\n",
    "        print(f\"Scraping page {i}\")\n",
    "        url = f\"{base_url}/page/{i}/?sortby=post_date%3ADesc&pagesize={page_size}\"\n",
    "        response = requests.get(url)\n",
    "        content = response.content\n",
    "        parsed_content = BeautifulSoup(content, 'html.parser')\n",
    "        for para in parsed_content.find_all(\"div\", {\"class\": \"text_content\"}):\n",
    "            reviews.append(para.get_text().strip())\n",
    "        print(f\"   ---> {len(reviews)} total reviews\")\n",
    "    \n",
    "    df = pd.DataFrame(reviews, columns=['Reviews'])\n",
    "    # Handle splitting only if '|' exists in reviews \n",
    "    df['reviews'] = df['Reviews'].apply(lambda x: x.split('|')[1] if '|' in x else x)\n",
    "    return df"
   ]
  },
  {
   "cell_type": "markdown",
   "metadata": {},
   "source": [
    "Define vader Function"
   ]
  },
  {
   "cell_type": "code",
   "execution_count": 42,
   "metadata": {},
   "outputs": [],
   "source": [
    "# Perform sentiment analysis using VADER\n",
    "def vader(df):\n",
    "    if df is None or df.empty:\n",
    "        print(\"No reviews to analyze.\")\n",
    "        return None\n",
    "    sia = Sia()\n",
    "    df[\"sentiments\"] = ''\n",
    "    df[\"Vader_Analysis\"] = ''\n",
    "    \n",
    "    for i in range(len(df)):\n",
    "        df.loc[i, \"sentiments\"] = sia.polarity_scores(df[\"reviews\"][i])[\"compound\"]\n",
    "        if df[\"sentiments\"][i] >= 0.05:\n",
    "            df.loc[i, \"Vader_Analysis\"] = \"Positive\"\n",
    "        elif df[\"sentiments\"][i] <= -0.05:\n",
    "            df.loc[i, \"Vader_Analysis\"] = \"Negative\"\n",
    "        else:\n",
    "            df.loc[i, \"Vader_Analysis\"] = \"Neutral\"\n",
    "    return df"
   ]
  },
  {
   "cell_type": "markdown",
   "metadata": {},
   "source": [
    "Define plotter Function"
   ]
  },
  {
   "cell_type": "code",
   "execution_count": 43,
   "metadata": {},
   "outputs": [],
   "source": [
    "# Plot sentiment analysis results\n",
    "def plotter(df):\n",
    "    if df is None or df.empty:\n",
    "        print(\"No data to plot.\")\n",
    "        return\n",
    "    plt.figure(figsize=(10, 5))\n",
    "    plt.title(\"Sentiment Analysis By Vader Analysis\")\n",
    "    plt.xlabel(\"Sentiments\")\n",
    "    plt.ylabel(\"Counts\")\n",
    "    df[\"Vader_Analysis\"].value_counts().plot(kind=\"pie\")\n",
    "    plt.show()\n",
    "    df[\"Vader_Analysis\"].value_counts().plot(kind=\"bar\")\n",
    "    plt.show()"
   ]
  },
  {
   "cell_type": "markdown",
   "metadata": {},
   "source": [
    "Define main Function"
   ]
  },
  {
   "cell_type": "code",
   "execution_count": null,
   "metadata": {},
   "outputs": [],
   "source": [
    "# Main function to orchestrate the workflow\n",
    "def main():\n",
    "    z = scrapper_names()\n",
    "    str_1 = input(\"Enter the first 2 or more characters of the airline name: \").lower()\n",
    "    airline = [i.lower() for i in z if i.lower().startswith(str_1)]\n",
    "    \n",
    "    if airline:\n",
    "        print(\"Matching airlines:\")\n",
    "        for i in airline:\n",
    "            print(i)\n",
    "    else:\n",
    "        print(\"No airlines found with those characters.\")\n",
    "        return\n",
    "    \n",
    "    actual_input = input_airline(airline)\n",
    "    reviews = scrapper_reviews(actual_input)\n",
    "    analyzed_reviews = vader(reviews)\n",
    "    plotter(analyzed_reviews)\n",
    "    \\\n",
    "    print(\"Done.\")"
   ]
  },
  {
   "cell_type": "markdown",
   "metadata": {},
   "source": [
    "Execute the Script"
   ]
  },
  {
   "cell_type": "code",
   "execution_count": 46,
   "metadata": {},
   "outputs": [
    {
     "name": "stdout",
     "output_type": "stream",
     "text": [
      "Matching airlines:\n",
      "zambia airways\n",
      "Processing...\n",
      "The zambia airways airline is in the list\n",
      "Scraping page 1\n",
      "   ---> 2 total reviews\n",
      "Scraping page 2\n",
      "   ---> 2 total reviews\n",
      "Scraping page 3\n",
      "   ---> 2 total reviews\n",
      "Scraping page 4\n",
      "   ---> 2 total reviews\n",
      "Scraping page 5\n",
      "   ---> 2 total reviews\n"
     ]
    },
    {
     "data": {
      "image/png": "[encoded data removed]",
      "text/plain": [
       "<Figure size 1000x500 with 1 Axes>"
      ]
     },
     "metadata": {},
     "output_type": "display_data"
    },
    {
     "data": {
      "image/png": "[encoded data removed]",
      "text/plain": [
       "<Figure size 640x480 with 1 Axes>"
      ]
     },
     "metadata": {},
     "output_type": "display_data"
    },
    {
     "name": "stdout",
     "output_type": "stream",
     "text": [
      "                                             Reviews  \\\n",
      "0  ✅ Trip Verified |   The worst experience ever....   \n",
      "1  ✅ Trip Verified |  Flew Lusaka to Ndola via So...   \n",
      "\n",
      "                                             reviews sentiments Vader_Analysis  \n",
      "0     The worst experience ever. 7am departure th...    -0.9601       Negative  \n",
      "1    Flew Lusaka to Ndola via Solwezi 11 Sept. 22...     0.9528       Positive  \n",
      "Done.\n"
     ]
    }
   ],
   "source": [
    "# Run the main function\n",
    "main()"
   ]
  },
  {
   "cell_type": "code",
   "execution_count": null,
   "metadata": {},
   "outputs": [],
   "source": []
  }
 ],
 "metadata": {
  "kernelspec": {
   "display_name": ".venv",
   "language": "python",
   "name": "python3"
  },
  "language_info": {
   "codemirror_mode": {
    "name": "ipython",
    "version": 3
   },
   "file_extension": ".py",
   "mimetype": "text/x-python",
   "name": "python",
   "nbconvert_exporter": "python",
   "pygments_lexer": "ipython3",
   "version": "3.13.2"
  }
 },
 "nbformat": 4,
 "nbformat_minor": 2
}
